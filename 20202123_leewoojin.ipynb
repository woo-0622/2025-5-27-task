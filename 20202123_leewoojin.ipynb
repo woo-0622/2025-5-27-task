{
  "nbformat": 4,
  "nbformat_minor": 0,
  "metadata": {
    "colab": {
      "provenance": [],
      "authorship_tag": "ABX9TyNCn4yYD8zH3WjAdBJmdOe0",
      "include_colab_link": true
    },
    "kernelspec": {
      "name": "python3",
      "display_name": "Python 3"
    },
    "language_info": {
      "name": "python"
    }
  },
  "cells": [
    {
      "cell_type": "markdown",
      "metadata": {
        "id": "view-in-github",
        "colab_type": "text"
      },
      "source": [
        "<a href=\"https://colab.research.google.com/github/woo-0622/2025-5-27-task/blob/main/20202123_leewoojin.ipynb\" target=\"_parent\"><img src=\"https://colab.research.google.com/assets/colab-badge.svg\" alt=\"Open In Colab\"/></a>"
      ]
    },
    {
      "cell_type": "code",
      "execution_count": null,
      "metadata": {
        "colab": {
          "base_uri": "https://localhost:8080/"
        },
        "id": "KakjZjrCR3wz",
        "outputId": "5d76614d-91fb-4e17-bb80-11a6944a6035"
      },
      "outputs": [
        {
          "output_type": "stream",
          "name": "stdout",
          "text": [
            "[3.94727651 5.43958326 5.06240643 6.13926446 4.48512938 5.94824833\n",
            " 4.86014651 5.73299124 5.5689727  6.75710347 3.93876656 5.13593462\n",
            " 5.65665556 5.41349647 6.1387645  4.14020967 6.71651201 5.96788607\n",
            " 6.5522617  3.61034864 5.32534486 5.87341535 3.57242752 3.46416886\n",
            " 4.94128848 4.28990592 5.0148234  6.40684975 3.21115908 5.06429193\n",
            " 5.16026156 3.8372818  5.43515473 5.35632491 5.27884262 5.16763373\n",
            " 5.33725392 5.91415269 2.69819298 5.50223844]\n",
            "\n",
            "\n",
            "Full set of data points for Gaussian data:\n",
            "       Score\n",
            "0   3.947277\n",
            "1   5.439583\n",
            "2   5.062406\n",
            "3   6.139264\n",
            "4   4.485129\n",
            "5   5.948248\n",
            "6   4.860147\n",
            "7   5.732991\n",
            "8   5.568973\n",
            "9   6.757103\n",
            "10  3.938767\n",
            "11  5.135935\n",
            "12  5.656656\n",
            "13  5.413496\n",
            "14  6.138764\n",
            "15  4.140210\n",
            "16  6.716512\n",
            "17  5.967886\n",
            "18  6.552262\n",
            "19  3.610349\n",
            "20  5.325345\n",
            "21  5.873415\n",
            "22  3.572428\n",
            "23  3.464169\n",
            "24  4.941288\n",
            "25  4.289906\n",
            "26  5.014823\n",
            "27  6.406850\n",
            "28  3.211159\n",
            "29  5.064292\n",
            "30  5.160262\n",
            "31  3.837282\n",
            "32  5.435155\n",
            "33  5.356325\n",
            "34  5.278843\n",
            "35  5.167634\n",
            "36  5.337254\n",
            "37  5.914153\n",
            "38  2.698193\n",
            "39  5.502238\n",
            "\n",
            "\n",
            "Shapiro-Wilk Test Statistic: 0.958\n",
            "p-value: 0.14297640974425602\n",
            "Sample looks Gaussian (fail to reject H0)\n"
          ]
        }
      ],
      "source": [
        "import numpy as np # numeric calculation\n",
        "import pandas as pd # data analysis\n",
        "import seaborn as sns\n",
        "from scipy.stats import shapiro # stats\n",
        "\n",
        "\n",
        "data_gaussian = np.random.normal(loc=5, scale=1, size=40)\n",
        "print(data_gaussian)\n",
        "print('\\n')\n",
        "\n",
        "df1 = pd.DataFrame(data_gaussian, columns=['Score'])\n",
        "print('Full set of data points for Gaussian data:')\n",
        "print(df1)\n",
        "print('\\n')\n",
        "\n",
        "\n",
        "df1.to_csv('/content/game_skills.csv', index=True)\n",
        "\n",
        "\n",
        "statistic, p_value = shapiro(data_gaussian)\n",
        "\n",
        "\n",
        "statistic = round(statistic, 3)\n",
        "\n",
        "print(\"Shapiro-Wilk Test Statistic:\", statistic)\n",
        "print(\"p-value:\", p_value)\n",
        "\n",
        "\n",
        "alpha = 0.05\n",
        "\n",
        "\n",
        "if p_value > alpha:\n",
        "    print(\"Sample looks Gaussian (fail to reject H0)\")\n",
        "else:\n",
        "    print(\"Sample does not look Gaussian (reject H0)\")\n"
      ]
    },
    {
      "cell_type": "code",
      "source": [
        "!git clone 'https://github.com/woo-0622/2025-5-27-task'"
      ],
      "metadata": {
        "colab": {
          "base_uri": "https://localhost:8080/"
        },
        "id": "SenUOOTuZiML",
        "outputId": "0e9d7e36-ef5e-43cd-a681-837198618e4c"
      },
      "execution_count": null,
      "outputs": [
        {
          "output_type": "stream",
          "name": "stdout",
          "text": [
            "fatal: destination path 'game_skills.csv' already exists and is not an empty directory.\n"
          ]
        }
      ]
    },
    {
      "cell_type": "code",
      "source": [
        "import pandas as pd\n",
        "from scipy.stats import ttest_ind\n",
        "\n",
        "# Load the data from the CSV file\n",
        "data = pd.read_csv('/content/통합 문서2.csv')\n",
        "data.columns = data.columns.str.strip()\n",
        "# Filter operation on the DataFrame data to accesses the 'Group' column of the DataFrame, include only rows for Group 1\n",
        "#then extract the 'Values' column from those rows exclusively\n",
        "group_female = data[data['Gender'] == '여학생']['Score']\n",
        "# The same applies to rows for Group 2 and their associated values.\n",
        "group_male = data[data['Gender'] == '남학생']['Score']\n",
        "\n",
        "# Perform independent two-sample t-test\n",
        "t_statistic, p_value = ttest_ind(group_female, group_male)\n",
        "\n",
        "# Print the results\n",
        "print(\"Ho: There is difference in game skills between Gender\")\n",
        "print(\"t-statistic:\", t_statistic)\n",
        "print(\"p-value:\", p_value)\n",
        "\n",
        "# Interpret the results\n",
        "alpha = 0.05\n",
        "if p_value < alpha:\n",
        "    print(\"Interpretation: Data between the two groups are NOT equal. (Reject Ho (p<0.05*))\")\n",
        "else:\n",
        "    print(\"Interpretation: Data between the two groups are equal. (Fail to reject Ho (p>0.05*))\")"
      ],
      "metadata": {
        "colab": {
          "base_uri": "https://localhost:8080/"
        },
        "id": "ahTV9fTfZyce",
        "outputId": "9025c1e8-0c93-4fb6-89e3-376e9bf25347"
      },
      "execution_count": null,
      "outputs": [
        {
          "output_type": "stream",
          "name": "stdout",
          "text": [
            "Ho: There is difference in game skills between Gender\n",
            "t-statistic: -0.9845485512282022\n",
            "p-value: 0.33107339217920906\n",
            "Interpretation: Data between the two groups are equal. (Fail to reject Ho (p>0.05*))\n"
          ]
        }
      ]
    },
    {
      "cell_type": "code",
      "source": [],
      "metadata": {
        "id": "3NOKPAVllM1h"
      },
      "execution_count": null,
      "outputs": []
    }
  ]
}